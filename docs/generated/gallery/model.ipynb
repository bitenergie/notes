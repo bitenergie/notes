{
  "cells": [
    {
      "cell_type": "code",
      "execution_count": null,
      "metadata": {
        "collapsed": false
      },
      "outputs": [],
      "source": [
        "%matplotlib inline"
      ]
    },
    {
      "cell_type": "markdown",
      "metadata": {},
      "source": [
        "\nSIA2024 - Model\n===================================\n\nBase test with the sia 2024 model...\n"
      ]
    },
    {
      "cell_type": "code",
      "execution_count": null,
      "metadata": {
        "collapsed": false
      },
      "outputs": [],
      "source": [
        "from pprint import pprint"
      ]
    },
    {
      "cell_type": "markdown",
      "metadata": {},
      "source": [
        "## Schedule Day\n\n\n"
      ]
    },
    {
      "cell_type": "code",
      "execution_count": null,
      "metadata": {
        "collapsed": false
      },
      "outputs": [],
      "source": [
        "from schedule_day import ScheduleDay\n\n\nhours = [\n    1,\n    1,\n    1,\n    1,\n    1,\n    1,\n    0.6,\n    0.4,\n    0,\n    0,\n    0,\n    0,\n    0.8,\n    0.4,\n    0,\n    0,\n    0,\n    0.4,\n    0.8,\n    0.8,\n    0.8,\n    1,\n    1,\n    1,\n]\nschedule = ScheduleDay(hours)\nprint(schedule.to_dict())\nprint(schedule.to_str())\nprint(schedule.get_sum())\nprint(schedule.get_len())"
      ]
    },
    {
      "cell_type": "markdown",
      "metadata": {},
      "source": [
        "## schedule annual\n\n\n"
      ]
    },
    {
      "cell_type": "code",
      "execution_count": null,
      "metadata": {
        "collapsed": false
      },
      "outputs": [],
      "source": [
        "from schedule_rule_annual import ScheduleRuleAnnual\n\nschedule_annual_dict = {\n    \"januar\": 0.8,\n    \"february\": 0.8,\n    \"march\": 0.8,\n    \"april\": 0.8,\n    \"may\": 0.8,\n    \"june\": 0.8,\n    \"july\": 0.8,\n    \"august\": 0.8,\n    \"september\": 0.8,\n    \"october\": 0.8,\n    \"november\": 0.8,\n    \"december\": 0.8,\n}\n\n# test\nschedule_annual = ScheduleRuleAnnual.from_dict(schedule_annual_dict)\nassert schedule_annual.get_annual_simultaneity(), 0.8\n\nschedule_annual"
      ]
    },
    {
      "cell_type": "markdown",
      "metadata": {},
      "source": [
        "## schedule week\n\n\n"
      ]
    },
    {
      "cell_type": "code",
      "execution_count": null,
      "metadata": {
        "collapsed": false
      },
      "outputs": [],
      "source": [
        "from schedule_rule_week import ScheduleRuleWeek\n\nschedule_week_dict = {\n    \"sunday\": 1,\n    \"monday\": 1,\n    \"tuesday\": 1,\n    \"wednesday\": 1,\n    \"thursday\": 1,\n    \"friday\": 1,\n    \"saturday\": 1,\n}\n\nschedule_week = ScheduleRuleWeek.from_dict(schedule_week_dict)\n\n\nprint(schedule_week)\nschedule_week.get_annual_active_days()"
      ]
    },
    {
      "cell_type": "markdown",
      "metadata": {},
      "source": [
        "## Climate\n\n\n"
      ]
    },
    {
      "cell_type": "code",
      "execution_count": null,
      "metadata": {
        "collapsed": false
      },
      "outputs": [],
      "source": [
        "from climate import Climate\n\ncilmate_dict = {\n    \"design_day_cooling\": 26,\n    \"design_day_heating\": 21,\n    \"average_cooling\": 25,\n    \"average_heating\": 22,\n    \"rel_humidity_cooling\": 60,\n    \"rel_humidity_heating\": 30,\n}\n\nclimate = Climate.from_dict(cilmate_dict)\nclimate.to_dict()"
      ]
    },
    {
      "cell_type": "markdown",
      "metadata": {},
      "source": [
        "## Dimension\n\n\n"
      ]
    },
    {
      "cell_type": "code",
      "execution_count": null,
      "metadata": {
        "collapsed": false
      },
      "outputs": [],
      "source": [
        "from dimension import Dimension\n\n\ndimension_dict = {\n    \"window_frames_factor\": 0.75,\n    \"net_to_gross\": 0.85,\n    \"reduction_factor_solar_heat_gain\": 0.9,\n    \"set_solar_shading_on\": 90,\n    \"length\": 4,\n    \"depth\": 5,\n    \"height\": 2.5,\n    \"thermal_active_area\": 26.5,\n    \"glass_percentage\": 0.30,\n}\n\ndimension = Dimension.from_dict(dimension_dict)\ndimension"
      ]
    },
    {
      "cell_type": "markdown",
      "metadata": {},
      "source": [
        "## material\n\n\n"
      ]
    },
    {
      "cell_type": "code",
      "execution_count": null,
      "metadata": {
        "collapsed": false
      },
      "outputs": [],
      "source": [
        "from materials import Material\n\nmaterial_dict = {\n    \"heat_storage_capacity\": 120,\n    \"transmittance_glazing\": 0.5,\n    \"transmittance_glazing_shading\": 0.14,\n    \"light_transmittance\": 0.7,\n    \"u_value_window\": 1,\n    \"u_value_opaque\": 0.17,\n    \"solar_reduction_factor\": 120,\n}\n\nmaterial = Material(**material_dict)\nmaterial_dict"
      ]
    },
    {
      "cell_type": "markdown",
      "metadata": {},
      "source": [
        "## Person\n\n\n"
      ]
    },
    {
      "cell_type": "code",
      "execution_count": null,
      "metadata": {
        "collapsed": false
      },
      "outputs": [],
      "source": [
        "from person import Person\n\n\nperson_dict = {\n    \"area_per_person\": 35,\n    \"activity_level\": 1.2,\n    \"thermal_insulation_cladding_heating\": 1,\n    \"thermal_insulation_cladding_cooling\": 0.5,\n    \"humidity_production_without_person\": 0.5,\n    \"sensible_heat_output_cooling\": 84,\n    \"sensible_heat_output_heating\": 94,\n    \"humidity_production_heating\": 51,\n    \"humidity_production_cooling\": 66,\n    \"schedule_day\": schedule,\n    \"schedule_week\": schedule_week,\n    \"schedule_annual\": schedule_annual,\n}\n\nperson = Person.from_dict(person_dict)\nperson"
      ]
    },
    {
      "cell_type": "markdown",
      "metadata": {},
      "source": [
        "## Electric\n\n\n"
      ]
    },
    {
      "cell_type": "code",
      "execution_count": null,
      "metadata": {
        "collapsed": false
      },
      "outputs": [],
      "source": [
        "from electric_equipment import ElectricEquipment\n\nel_schedule = ScheduleDay(\n    [\n        0.2,\n        0.2,\n        0.2,\n        0.2,\n        0.2,\n        0.2,\n        0.8,\n        0.2,\n        0.2,\n        0.2,\n        0.2,\n        0.2,\n        0.8,\n        0.2,\n        0.2,\n        0.2,\n        0.2,\n        0.2,\n        0.8,\n        1.0,\n        0.2,\n        0.2,\n        0.2,\n        0.2,\n    ]\n)\n\nelectric_equipment_dict = {\n    \"electrical_power_equipment\": 10,\n    \"electrical_power_process\": 0,\n    \"power_factor_outside_of_use\": 0.2,\n    \"schedule_day\": el_schedule,\n    \"schedule_week\": schedule_week,\n    \"schedule_annual\": schedule_annual,\n}\n\nelectric_equipment = ElectricEquipment.from_dict(electric_equipment_dict)\nelectric_equipment"
      ]
    },
    {
      "cell_type": "markdown",
      "metadata": {},
      "source": [
        "## Light\n\n- space_in = 1.27\n- space_eff = 0.70\n- pwr_area = 7.66\n- min\\_ = 7.60\n- hr_ht_day = 0.74\n- cor_lintel = 1.20\n- zg_max = 0.26\n- zg = 0.18\n- hr = 550.0\n- q_ilighting = 5.65 wh/m$^2$\n- lighting_energy = 4.21\n\n\n"
      ]
    },
    {
      "cell_type": "code",
      "execution_count": null,
      "metadata": {
        "collapsed": false
      },
      "outputs": [],
      "source": [
        "from lighting import Lighting\n\nlighting_dict = {\n    \"reference_illuminance\": 300,\n    \"cor_k0\": 6.0,\n    \"presence_type\": \"permanent\",\n    \"cor_factor_simultaneity\": 0.3,\n    \"evaluation_level\": 0.75,\n    \"light_output_per_load\": 70,\n    \"cor_dayligth_control\": 2,\n    \"cor_reflexion\": 1.1,\n    \"cor_transmission\": 1,\n    \"cor_balcony\": 1,\n    \"cor_sun_protection\": 1.44,\n    \"cor_horizontal_shadow\": 1,\n    \"maintenance_value_lighting\": 0.8,\n    \"cor_factor_presence_control\": 1,\n    \"schedule_day\": schedule,\n    \"schedule_week\": schedule_week,\n    \"schedule_annual\": schedule_annual,\n    \"dimension\": dimension,\n}\n\nlight = Lighting.from_dict(lighting_dict)\nprint(\n    f\"{light.full_load_hours_annual = }\\n{light.load_per_year = }\\n{light.light_hours_min = }\\n{light.full_load_hours = }\"\n)\nprint(light)"
      ]
    },
    {
      "cell_type": "markdown",
      "metadata": {},
      "source": [
        "## Ventilation\n\n\n"
      ]
    },
    {
      "cell_type": "code",
      "execution_count": null,
      "metadata": {
        "collapsed": false
      },
      "outputs": [],
      "source": [
        "from ventilation import Ventilation\n\n\nventilation_dict = {\n    \"schedule_day\": schedule,\n    \"schedule_annual\": schedule_annual,\n    \"is_mechanical\": True,\n    \"indoor_air_category\": 2,\n    \"outside_air_volume_flow_per_person_day\": 29,\n    \"outside_air_volume_flow_per_person_night\": 18,\n    \"outside_air_volume_flow_hygienic\": 0.8,\n    \"process_air_flow\": 0,\n    \"infiltration\": 0.15,\n    \"controler_air_volume_flow\": \"single_stage\",\n    \"temperature_heat_recovery\": 0.73,\n    \"system_efficiency_heat_recovery\": 0.7,\n    \"specific_fan_power\": 0.56,\n}\n\nventilation = Ventilation(**ventilation_dict)\n\nventilation.to_dict()"
      ]
    },
    {
      "cell_type": "markdown",
      "metadata": {},
      "source": [
        "## Heating\n\n\n"
      ]
    },
    {
      "cell_type": "code",
      "execution_count": null,
      "metadata": {
        "collapsed": false
      },
      "outputs": [],
      "source": [
        "from heating import Heating\n\nheating_dict = {\n    \"thermal_active_min_air_flow_natural\": 0.7,\n    \"thermal_active_min_air_exchange_rate\": 0.1,\n    \"ventilation\": ventilation,\n}\n\nheating = Heating(**heating_dict)\nprint(heating)"
      ]
    },
    {
      "cell_type": "markdown",
      "metadata": {},
      "source": [
        "## SIA 380\n\nTO-DO:\n\n-\n\n\n"
      ]
    },
    {
      "cell_type": "code",
      "execution_count": null,
      "metadata": {
        "collapsed": false
      },
      "outputs": [],
      "source": [
        "from energy import Sia380\nimport pandas as pd\n\nsia = Sia380(dimension, climate, electric_equipment, heating, person, material, light)\n\ndays_per_month = [31, 28, 31, 30, 31, 30, 31, 31, 30, 31, 30, 31]\ntemps = [0.4, 1.6, 5.5, 8.4, 13.4, 16.2, 18.4, 18.4, 14.0, 9.9, 4.2, 1.8]\ngains_west = [22.22,34.17,55.0,64.17,79.72,84.17,90.83,81.94,60.56,39.44,20.83,16.39]\nheat_bridge_factor = 1.1\nelevation = 556\n\ndelta = [22 - i for i in temps]\nprint(f\"{temps = }\")\nprint(f\"{delta = }\\n\")\n\nprint(f\"{sia.a()= :.2f}\")\nprint(f\"{sia.time()= :.2f}\")\nprint(f\"{sia.transmission_coef_total()= :.2f}\")\nprint(f\"{sia.transmission_coef()= :.2f}\")\nprint(f\"{sia.transmission_coef_air()= :.2f}\")\nprint(f\"{sia.load_per_hour()= :.2f}\")\nprint(f\"{sia.load_per_hour_air()= :.2f}\")\nprint(f\"{sia.load_per_hour_transmission()= :.2f}\")\n\nenergy = sia.energy_table(delta, days_per_month, gains_west, mechanical=True)\n\n\ndf_energy = pd.DataFrame(energy)\nprint(df_energy.sum())\n\ndf_energy = df_energy.transpose()\ndf_energy.to_clipboard()\ndf_energy.round(1)"
      ]
    },
    {
      "cell_type": "code",
      "execution_count": null,
      "metadata": {
        "collapsed": false
      },
      "outputs": [],
      "source": [
        "delta = [round(25 - i, 1) for i in temps]\nenergy_cooling = sia.energy_table_cooling(delta, days_per_month, gains_west)\n\npd.DataFrame(energy_cooling).sum()"
      ]
    },
    {
      "cell_type": "code",
      "execution_count": null,
      "metadata": {
        "collapsed": false
      },
      "outputs": [],
      "source": [
        "pd.DataFrame(energy_cooling)"
      ]
    },
    {
      "cell_type": "code",
      "execution_count": null,
      "metadata": {
        "collapsed": false
      },
      "outputs": [],
      "source": [
        "from pprint import pprint\n\n\nimport matplotlib.pyplot as plt\nimport pandas as pd\n\nimport plotly.express as px\ntemplates= [\"plotly\", \"plotly_white\", \"plotly_dark\", \"ggplot2\", \"seaborn\", \"simple_white\", \"none\"]\ntemplate=templates[0]\n\nindex = {\n    \"month\": [\n        \"Januar\",\n        \"February\",\n        \"March\",\n        \"April\",\n        \"May\",\n        \"June\",\n        \"July\",\n        \"August\",\n        \"September\",\n        \"October\",\n        \"November\",\n        \"December\",\n    ]\n}\n\nbar_colors = [\"tab:red\", \"tab:cyan\", \"tab:blue\", \"y\", \"tab:orange\", \"tab:pink\"]\ndf_index = pd.DataFrame(index)\ndf = pd.DataFrame(energy, index=index[\"month\"])\n\ndf = df.drop(columns=[\"ng\"])\ndf = df.round(2)\n\nconfig = {\n    \"displaylogo\": False,\n    \"modeBarButtonsToAdd\": [\n    ],\n}\n\ndef get_month_bar(df, name):\n    fig = px.bar(df, x=df.index, y=df.to_dict())\n\n    config = {\n        \"displaylogo\": False,\n        \"modeBarButtonsToAdd\": [\n        ],\n    }\n    fig.update_layout(\n        {\n        \"plot_bgcolor\": \"rgba(0, 0, 0, 0)\",\n        \"paper_bgcolor\": \"rgba(0, 0, 0, 0)\",\n        }\n    )\n    fig.update_layout(\n        xaxis_title=\"Monat\",\n        yaxis_title=\"kWh/m2\",\n        legend_font_color=\"white\",\n        font_color=\"white\",\n        title_font_color=\"white\",\n        )\n        \n    #fig.write_html(f\"../static/plotts/{name}.html\", config=config, full_html=False)\n    return (fig, config)\n\n\nfig, conf = get_month_bar(df,'Heating')\nfig.write_html(file=\"../mkdocs_frontend/docs/plots/heating.html\",  config=config, )\nfig.show(config=conf)\nfig.update_layout(template=\"plotly_white\")\nfig.write_image(file=\"../static/plotts/heating.svg\", format=\"svg\", )\nfig.write_image(file=\"../mkdocs_frontend/docs/plots/heating.svg\", format=\"svg\", )\n\nwith open(\"../mkdocs_frontend/docs/plots/heating.json\", \"w\") as f:\n    f.write(fig.to_json())"
      ]
    },
    {
      "cell_type": "code",
      "execution_count": null,
      "metadata": {
        "collapsed": false
      },
      "outputs": [],
      "source": [
        "df_c = pd.DataFrame(energy_cooling, index=index[\"month\"])\nfig, conf = get_month_bar(df_c, f\"Cooling\")\n\nfig.write_html(file=\"../mkdocs_frontend/docs/plots/cooling.html\", config=config)\nfig.show(config=conf)\nfig.update_layout(template=\"plotly_white\")\nfig.write_image(file=\"../static/plotts/cooling.svg\", format=\"svg\", )\nfig.write_image(file=\"../mkdocs_frontend/docs/plots/cooling.svg\", format=\"svg\", )\n\n\nwith open(\"../mkdocs_frontend/docs/plots/cooling.json\", \"w\") as f:\n    f.write(fig.to_json())\n\nprint(df_c.sum())\ndf_energy = df_c.transpose()\ndf_energy.to_clipboard()\ndf_energy.round(1)*3.6"
      ]
    },
    {
      "cell_type": "code",
      "execution_count": null,
      "metadata": {
        "collapsed": false
      },
      "outputs": [],
      "source": [
        "from moisture import CO2, MaxRelativeMoisture, RelativeMoisture\n\n\nrel_moisture = 0.74  # %\nmoisture_total = 45\nair_temperature = 5.5\nmean_air_pressure = 948  # hpa\ntemperature = 21\nrho = 1.1  # kg/m3\nair_volume_flow = 20\nspace_volume = 50\n\nmoisture_emission = [\n    48,\n    48,\n    48,\n    48,\n    48,\n    48,\n    33,\n    25,\n    10,\n    10,\n    10,\n    10,\n    40,\n    25,\n    10,\n    10,\n    10,\n    25,\n    40,\n    40,\n    40,\n    48,\n    48,\n    48,\n]\n\n\nrel_mois = RelativeMoisture(\n    rel_moisture,\n    moisture_emission,\n    air_temperature,\n    mean_air_pressure,\n    temperature,\n    air_volume_flow,\n    space_volume,\n    rho,\n)\n\nprint(rel_mois.relaitve_moisture)\nprint(rel_mois.day_one())\nprint(rel_mois.day_two())\nprint(rel_mois.day_three())\nprint(rel_mois.rel_humidity())"
      ]
    },
    {
      "cell_type": "code",
      "execution_count": null,
      "metadata": {
        "collapsed": false
      },
      "outputs": [],
      "source": [
        "max_rel = MaxRelativeMoisture(rel_moisture, air_temperature, temperature)\nprint(max_rel.pv_sat_teat_si())\nprint(max_rel.max_relative_humidity())"
      ]
    },
    {
      "cell_type": "code",
      "execution_count": null,
      "metadata": {
        "collapsed": false
      },
      "outputs": [],
      "source": [
        "import plotly.graph_objects as go\nfrom plotly.subplots import make_subplots\n\n\ndf_rel = {\n    \"rel_hum\": rel_mois.rel_humidity(),\n    \"max\": max_rel.max_relative_humidity(),\n    \"Person\": schedule.to_list(),\n}\n\ndf = pd.DataFrame(df_rel)\n# df[\"Airflow\"] = (df['Airflow'] / df['Airflow']) * 100\n\ndef get_rel_hum_plot(name, ):\n    fig = go.Figure()\n    fig = make_subplots(specs=[[{\"secondary_y\": True}]])\n\n    fig.add_trace(\n        go.Scatter(x=df.index, y=df[\"rel_hum\"], name=\"Rel. Feuchte\",     marker_color='lightsalmon'),\n        secondary_y=False, )\n    fig.add_trace(\n        go.Scatter(x=df.index, y=df[\"max\"], name=\"Max. Feuchte\",  marker_color='red'),\n        secondary_y=False, \n        )\n\n    fig.add_trace(go.Bar(x=df.index, y=df[\"Person\"]*100, name=\"Person\"), \n        secondary_y=True,)\n\n    config = {\n        \"displaylogo\": False,\n        \"modeBarButtonsToAdd\": [\n        ],\n    }\n    fig.update_layout(\n        {\n        \"plot_bgcolor\": \"rgba(0, 0, 0, 0)\",\n        \"paper_bgcolor\": \"rgba(0, 0, 0, 0)\",\n        }\n    )\n    fig.update_yaxes(title_text=\"Personen Profil [%]\", secondary_y=True, showgrid=False)\n    fig.update_layout(\n        yaxis_range=[20,70],\n        xaxis_title=\"Stunden\",\n        yaxis_title=\"Rel. Feuchte\",\n        template=template,\n        legend_font_color=\"white\",\n        font_color=\"white\",\n        title_font_color=\"white\",)\n    \n    fig.write_image(file=\"../mkdocs_frontend/docs/plots/rel_hum.svg\", format=\"svg\", )\n    fig.write_html(file=\"../mkdocs_frontend/docs/plots/rel_hum.html\", config=config, )\n    with open(\"../mkdocs_frontend/docs/plots/rel_hum.json\", \"w\") as f:\n        f.write(fig.to_json())\n\n    fig.show(config=config)\n\n    return (fig, config)\n\nget_rel_hum_plot(\"rel_hum\")\ndf.transpose()"
      ]
    },
    {
      "cell_type": "code",
      "execution_count": null,
      "metadata": {
        "collapsed": false
      },
      "outputs": [],
      "source": [
        "schedule_day = [\n    1.0,\n    1.0,\n    1.0,\n    1.0,\n    1.0,\n    1.0,\n    0.6,\n    0.4,\n    0.0,\n    0.0,\n    0.0,\n    0.0,\n    0.8,\n    0.4,\n    0.0,\n    0.0,\n    0.0,\n    0.4,\n    0.8,\n    0.8,\n    0.8,\n    1.0,\n    1.0,\n    1.0,\n]\n\nco2 = CO2(\n    schedule_day,\n    net_floor_area=20,\n    space_volume=50,\n    air_volume_flow=0.98,\n    person_per_area=35,\n    person_activity=1.2,\n)\nprint(f\"{co2.co2_per_hour() =   } l/Person*h\")\nprint(f\"{co2.volume_flow()  =   } m3\")\nprint(f\"{co2.day_one()      =   } ppm\")\nprint(f\"{co2.day_two()      =   } ppm\")\nprint(f\"{co2.day_three()    =   } ppm\")"
      ]
    },
    {
      "cell_type": "code",
      "execution_count": null,
      "metadata": {
        "collapsed": false
      },
      "outputs": [],
      "source": [
        "import plotly.graph_objects as go\nfrom plotly.subplots import make_subplots\ndf_co2 = {\n    \"Person profile\": co2.schedule_day,\n    \"Airflow\": co2.volume_flow(),\n    \"co2\": co2.day_three(),\n}\n\ndf = pd.DataFrame(df_co2)\ndf[\"Airflow\"] = (df['Airflow'] / df['Airflow']) * 100\n\ndef get_co2_plot(name, ):\n    fig = go.Figure()\n    fig = make_subplots(specs=[[{\"secondary_y\": True}]])\n\n    fig.add_trace(\n        go.Bar(x=df.index, y=df[\"Person profile\"]*100, name=\"Person\",     marker_color='lightsalmon'),\n        secondary_y=False, )\n    fig.add_trace(\n        go.Bar(x=df.index, y=df[\"Airflow\"], name=\"Airflow\",  marker_color='LightSkyBlue'),\n        secondary_y=False, \n        )\n\n    fig.add_trace(go.Scatter(x=df.index, y=df.co2, name=\"CO2\"), \n        secondary_y=True,)\n\n    config = {\n        \"displaylogo\": False,\n        \"modeBarButtonsToAdd\": [\n        ],\n    }\n    fig.update_layout(\n        {\n        \"plot_bgcolor\": \"rgba(0, 0, 0, 0)\",\n        \"paper_bgcolor\": \"rgba(0, 0, 0, 0)\",\n        }\n    )\n    fig.update_yaxes(title_text=\"ppm\", secondary_y=True, showgrid=False)\n    fig.update_layout(\n        xaxis_title=\"Stunden\",\n        yaxis_title=\"%\",\n        template=template,\n        legend_font_color=\"white\",\n        font_color=\"white\",\n        title_font_color=\"white\",)\n    \n    #fig.write_html(file=\"../mkdocs_frontend/docs/plots/{name}.html\", config=config)\n    fig.write_image(file=\"../mkdocs_frontend/docs/plots/co_2.svg\", format=\"svg\", )\n    fig.write_html(file=\"../mkdocs_frontend/docs/plots/co_2.html\", config=config, )\n    with open(\"../mkdocs_frontend/docs/plots/co_2.json\", \"w\") as f:\n        f.write(fig.to_json())\n\n    fig.show(config=config)\n\n    return (fig, config)\n\nget_co2_plot(\"co_2\")\ndf.transpose()"
      ]
    },
    {
      "cell_type": "markdown",
      "metadata": {},
      "source": [
        "## design day august\n\n\n"
      ]
    },
    {
      "cell_type": "code",
      "execution_count": null,
      "metadata": {
        "collapsed": false
      },
      "outputs": [],
      "source": [
        "from design_day import DesignDay\n\nsolar = [\n    0,\n    0,\n    0,\n    0,\n    3,\n    32,\n    65,\n    77,\n    97,\n    112,\n    117,\n    128,\n    267,\n    456,\n    602,\n    680,\n    670,\n    551,\n    238,\n    0,\n    0,\n    0,\n    0,\n    0,\n]\ntemp = [\n    19.9,\n    19.3,\n    18.8,\n    18.4,\n    18.3,\n    18.9,\n    20.3,\n    21.9,\n    24.0,\n    25.0,\n    26.7,\n    28.2,\n    29.6,\n    30.5,\n    31.4,\n    31.9,\n    32.0,\n    30.6,\n    27.4,\n    26.4,\n    26.9,\n    24.9,\n    22.9,\n    21.8,\n]\nrel = [\n    84,\n    85,\n    85,\n    88,\n    87,\n    87,\n    81,\n    75,\n    66,\n    63,\n    57,\n    54,\n    50,\n    47,\n    42,\n    34,\n    34,\n    42,\n    58,\n    47,\n    39,\n    45,\n    52,\n    61,\n]\n\ndd = DesignDay(\n    solar,\n    temp,\n    rel,\n    dimension,\n    electric_equipment,\n    person,\n    material,\n    heating,\n    light,\n    climate,\n    ventilation,\n)\nprint(dd.beleuchtung_sommer())\nprint(dd.solar)\nprint(dd.day_light_without_shading())\nprint(dd.day_light_with_shading())\ndd.lightning_load()\nprint(f\"{dd.delta_temperature()    =   }\\n\")\nprint(f\"{dd.solar_load()            =   }\\n\")\nprint(f\"{dd.lightning_load()            =   }\\n\")\nprint(f\"{dd.person_load()            =   }\\n\")\nprint(f\"{dd.equipment_load()            =   }\\n\")\nprint(f\"{dd.transmission_load()    =   }\\n\")\nprint(f\"{dd.ventilation_load()     =   }\\n\")\nprint(f\"{dd.cooling_load()          =   }\\n\")"
      ]
    },
    {
      "cell_type": "code",
      "execution_count": null,
      "metadata": {
        "collapsed": false
      },
      "outputs": [],
      "source": [
        "df = pd.DataFrame(dd.get_load_table())\n\n\ndef get_month_bar(df, name, text=False):\n    fig = px.bar(df, x=df.index, y=df.to_dict(),  text_auto=text,)\n    fig.update_layout(\n        {\n        \"plot_bgcolor\": \"rgba(0, 0, 0, 0)\",\n        \"paper_bgcolor\": \"rgba(0, 0, 0, 0)\",\n        }\n    )\n    fig.update_layout(\n        template=template,\n        xaxis_title=\"Stunden\",\n        yaxis_title=\"kW/m2\",\n        legend_font_color=\"white\",\n        font_color=\"white\",\n        title_font_color=\"white\",)\n    config = {\n        \"displaylogo\": False,\n        \"modeBarButtonsToAdd\": [\n        ],\n    }\n    fig.show(config=config)\n    fig.write_html(f\"../static/plotts/{name}.html\", config=config, full_html=False)\n    fig.write_image(file=\"../static/plotts/ddy_august.svg\", format=\"svg\")\n    fig.write_image(file=\"../mkdocs_frontend/docs/plots/ddy_august.svg\", format=\"svg\", )\n    fig.write_html(file=\"../mkdocs_frontend/docs/plots/ddy_august.html\", config=config, )\n\n    with open(\"../mkdocs_frontend/docs/plots/ddy_august.json\", \"w\") as f:\n        f.write(fig.to_json())\n\n\nget_month_bar(df, \"Design Day August\", False)\nprint(df.min())\ndf.transpose()"
      ]
    },
    {
      "cell_type": "code",
      "execution_count": null,
      "metadata": {
        "collapsed": false
      },
      "outputs": [],
      "source": [
        "import plotly.graph_objects as go\nanimals=['Fenster Tag / Nacht', 'Fenster nur bei benutzung', 'keine Fenster']\n\nfig = go.Figure(data=[\n    go.Bar(name='nicht Notwendig', x=animals, y=[140, 100, 80]),\n    go.Bar(name='Erw\u00fcnscht', x=animals, y=[60, 40, 40]),\n    go.Bar(name='Notwendig', x=animals, y=[10, 70, 90]),\n    go.Scatter(name=\"Wattstunden pro Tag\",x=animals, y=[117,117,117], marker_color='white')\n])\nfig.update_layout(\n    {\n    \"plot_bgcolor\": \"rgba(0, 0, 0, 0)\",\n    \"paper_bgcolor\": \"rgba(0, 0, 0, 0)\",\n    }\n)\nfig.update_layout(\n    template=template,\n    xaxis_title=\"Art der Bel\u00fcftung\",\n    yaxis_title=\"Wh/m2*day\",\n    legend_font_color=\"white\",\n    font_color=\"white\",\n    title_font_color=\"white\",)\nconfig = {\n    \"displaylogo\": False,\n    \"modeBarButtonsToAdd\": [\n    ],\n}\n# Change the bar mode\nfig.update_layout(barmode='stack')\nfig.show()\nfig.write_html(file=\"../mkdocs_frontend/docs/plots/is_cooling.html\", config=config, )"
      ]
    },
    {
      "cell_type": "markdown",
      "metadata": {},
      "source": [
        "## Model \n\n\n"
      ]
    },
    {
      "cell_type": "code",
      "execution_count": null,
      "metadata": {
        "collapsed": false
      },
      "outputs": [],
      "source": [
        "from sia_base_model import Model\n\nmodel_lite = {\n    \"identifier\": \"test_lite\",\n    \"dimension\": {\n        \"window_frames_factor\": 0.75,\n        \"net_to_gross\": 0.85,\n        \"reduction_factor_solar_heat_gain\": 0.9,\n        \"set_solar_shading_on\": 90,\n        \"length\": 4,\n        \"depth\": 5,\n        \"height\": 2.5,\n        \"thermal_active_area\": 26.5,\n        \"glass_percentage\": 0.3,\n    },\n    \"material\": {\n        \"heat_storage_capacity\": 120,\n        \"transmittance_glazing\": 0.5,\n        \"transmittance_glazing_shading\": 0.14,\n        \"light_transmittance\": 0.7,\n        \"u_value_window\": 1,\n        \"u_value_opaque\": 0.17,\n        \"solar_reduction_factor\": 120,\n    },\n    \"climate\": {\n        \"design_day_cooling\": 26,\n        \"design_day_heating\": 21,\n        \"average_cooling\": 25,\n        \"average_heating\": 22,\n        \"rel_humidity_cooling\": 60,\n        \"rel_humidity_heating\": 30,\n        \"average_air_speed_cooling\": 0.18,\n        \"average_air_speed_heating\": 0.13,\n    },\n    \"person\": {\n        \"area_per_person\": 35,\n        \"activity_level\": 1.2,\n        \"thermal_insulation_cladding_heating\": 1,\n        \"thermal_insulation_cladding_cooling\": 0.5,\n        \"humidity_production_without_person\": 0.5,\n        \"sensible_heat_output_cooling\": 84,\n        \"sensible_heat_output_heating\": 94,\n        \"humidity_production_heating\": 51,\n        \"humidity_production_cooling\": 66,\n    },\n    \"electric_equipment\": {\n        \"electrical_power_equipment\": 10,\n        \"electrical_power_process\": 0,\n        \"power_factor_outside_of_use\": 0.2,\n    },\n    \"lighting\": {\n        \"reference_illuminance\": 300,\n        \"cor_k0\": 6.0,\n        \"presence_type\": \"permanent\",\n        \"cor_factor_simultaneity\": 0.3,\n        \"evaluation_level\": 0.75,\n        \"light_output_per_load\": 70,\n        \"cor_dayligth_control\": 2,\n        \"cor_reflexion\": 1.1,\n        \"cor_transmission\": 1,\n        \"cor_balcony\": 1,\n        \"cor_sun_protection\": 1.44,\n        \"cor_horizontal_shadow\": 1,\n        \"maintenance_value_lighting\": 0.8,\n        \"cor_factor_presence_control\": 1,\n    },\n    \"ventilation\": {\n        \"is_mechanical\": False,\n        \"indoor_air_category\": 2,\n        \"outside_air_volume_flow_per_person_day\": 29,\n        \"outside_air_volume_flow_per_person_night\": 18,\n        \"outside_air_volume_flow_hygienic\": 0.8,\n        \"process_air_flow\": 0,\n        \"infiltration\": 0.15,\n        \"controler_air_volume_flow\": \"single_stage\",\n        \"temperature_heat_recovery\": 0.73,\n        \"system_efficiency_heat_recovery\": 0.7,\n        \"specific_fan_power\": 0.56,\n    },\n    \"water\": {\n        \"reference_unit\": \"person\",\n        \"hot_per_unit\": 35,\n        \"person_per_unit\": 1,\n        \"hot_to_cold_factor\": 4,\n    },\n    \"schedule_rule_annual\": {\n        \"januar\": 0.8,\n        \"february\": 0.8,\n        \"march\": 0.8,\n        \"april\": 0.8,\n        \"may\": 0.8,\n        \"june\": 0.8,\n        \"july\": 0.8,\n        \"august\": 0.8,\n        \"september\": 0.8,\n        \"october\": 0.8,\n        \"november\": 0.8,\n        \"december\": 0.8,\n    },\n    \"schedule_rule_week\": {\n        \"monday\": 1,\n        \"tuesday\": 1,\n        \"wednesday\": 1,\n        \"thursday\": 1,\n        \"friday\": 1,\n        \"saturday\": 1,\n        \"sunday\": 1,\n    },\n    \"schedule_day\": {\n        \"hours\": [\n            1,\n            1,\n            1,\n            1,\n            1,\n            1,\n            0.6,\n            0.4,\n            0,\n            0,\n            0,\n            0,\n            0.8,\n            0.4,\n            0,\n            0,\n            0,\n            0.4,\n            0.8,\n            0.8,\n            0.8,\n            1,\n            1,\n            1,\n        ]\n    },\n    \"schedule_day_electric\": {\n        \"hours\": [\n            0.2,\n            0.2,\n            0.2,\n            0.2,\n            0.2,\n            0.2,\n            0.8,\n            0.2,\n            0.2,\n            0.2,\n            0.2,\n            0.2,\n            0.8,\n            0.2,\n            0.2,\n            0.2,\n            0.2,\n            0.2,\n            0.8,\n            1.0,\n            0.2,\n            0.2,\n            0.2,\n            0.2,\n        ]\n    },\n    \"heating\": {\n        \"thermal_active_min_air_flow_natural\": 0.7,\n        \"thermal_active_min_air_exchange_rate\": 0.1,\n    },\n    \"acoustics\": {\n        \"noise_sensitivity\": \"normal\",\n        \"single_functional_noises\": 33,\n        \"single_user_noises\": 38,\n        \"continues_hvac_equipment_noise\": 28,\n    },\n    \"cooling\": {\n        \"external_heat_input_performance\": 0,\n        \"internal_heat_inputs\": 0,\n        \"internal_heat_inputs_per_day\": 0,\n        \"climate_power_requirements\": 0,\n        \"annual_full_load_hours\": 0,\n        \"annual_air_conditioning_refrigeration_requirement\": 0,\n    },\n}\n\nbase_model_lite = Model.from_small_dict(model_lite)\nbase_model_lite.to_dict()"
      ]
    },
    {
      "cell_type": "code",
      "execution_count": null,
      "metadata": {
        "collapsed": false
      },
      "outputs": [],
      "source": [
        "import json\nfrom sia_base_model import Model\n\nacoustics = {\n        \"noise_sensitivity\": \"normal\",\n        \"single_functional_noises\": 33,\n        \"single_user_noises\": 38,\n        \"continues_hvac_equipment_noise\": 28,\n}\n\nwater_dict = {\n    \"reference_unit\": \"person\",\n    \"hot_per_unit\": 35,\n    \"person_per_unit\": 1,\n    \"hot_to_cold_factor\": 4,\n    \"person\": person,\n    \"schedule_week\": schedule_week,\n    \"schedule_annual\": schedule_annual,\n  }\n\ncooling_dict = {\n  \"external_heat_input_performance\": 0,\n  \"internal_heat_inputs\": 0,\n  \"internal_heat_inputs_per_day\": 0,\n  \"climate_power_requirements\": 0,\n  \"annual_full_load_hours\": 0,\n  \"annual_air_conditioning_refrigeration_requirement\": 0\n}\n\nmodel_dict = {\n    \"identifier\": \"default\", \n    \"schedule_day\": {\"hours\": hours},\n    \"schedule_rule_annual\": schedule_annual_dict,\n    \"schedule_rule_week\": schedule_week_dict,\n    \"climate\": cilmate_dict,\n    \"dimension\": dimension_dict,\n    \"acoustics\": acoustics,\n    \"material\": material_dict,\n    \"person\": person_dict,\n    \"electric_equipment\": electric_equipment_dict,\n    \"lighting\": lighting_dict,\n    \"ventilation\": ventilation_dict,\n    \"heating\": heating_dict,\n    \"water\": water_dict,\n    \"cooling\": cooling_dict,\n}\n\nbase_model = Model.from_dict(model_dict)\n\nm = base_model.to_dict()\nmodel_dict"
      ]
    },
    {
      "cell_type": "code",
      "execution_count": null,
      "metadata": {
        "collapsed": false
      },
      "outputs": [],
      "source": [
        "with open(\"../mkdocs_frontend/docs/data.json\", \"w\") as file:\n    json.dump(obj=m, fp=file, sort_keys=True,  indent=2, ensure_ascii=False)\n\n\nimport chevron\n\nwith open('../mkdocs_frontend/docs/template.md', 'r') as f:\n    generated_md = chevron.render(f, m)\nwith open('../mkdocs_frontend/docs/generated.md', 'w') as f:\n    f.write(generated_md)\n\nprint(generated_md)\n\n#json.dumps(m, sort_keys=True,  indent=2, ensure_ascii=False)"
      ]
    },
    {
      "cell_type": "markdown",
      "metadata": {},
      "source": [
        "pprint(model_dict)\n\n"
      ]
    },
    {
      "cell_type": "code",
      "execution_count": null,
      "metadata": {
        "collapsed": false
      },
      "outputs": [],
      "source": [
        "print(json.dumps(m, sort_keys=True,  indent=2, ensure_ascii=False))"
      ]
    },
    {
      "cell_type": "code",
      "execution_count": null,
      "metadata": {
        "collapsed": false
      },
      "outputs": [],
      "source": [
        "import urllib, requests\n\nopenapi_json = urllib.request.urlretrieve(\"http://localhost:8000/openapi.json\", \"../tmp/openapi.json\")\nprint(openapi_json)"
      ]
    },
    {
      "cell_type": "code",
      "execution_count": null,
      "metadata": {
        "collapsed": false
      },
      "outputs": [],
      "source": [
        "pprint(model_dict)"
      ]
    },
    {
      "cell_type": "code",
      "execution_count": null,
      "metadata": {
        "collapsed": false
      },
      "outputs": [],
      "source": [
        "with open(\"../tmp/openapi.json\", \"r\") as f:\n    openapi = json.load(f)\ninputs={}\nreq_obj = ['Acoustics', 'Climate', 'Cooling', 'Dimension', 'ElectricEquipment', 'HTTPValidationError', 'Heating', 'Lighting', 'Material', 'ModelName', 'Person', 'ScheduleDay', 'ScheduleRuleAnnual', 'ScheduleRuleWeek', 'Model', 'SpaceType', 'Ventilation', 'Water']\ncomp_keys = openapi[\"components\"][\"schemas\"].keys()\nfor i in comp_keys:\n    if i in req_obj:\n        for k,j in openapi[\"components\"][\"schemas\"][i].items():\n            if k == \"required\":\n                #print(i, \"=\", j)\n                #print(f'<option value=\"{i}\">{i}</option>')\n                inputs[i] = j\ninputs\n\nprint(json.dumps(inputs, sort_keys=True,  indent=2, ensure_ascii=False))"
      ]
    }
  ],
  "metadata": {
    "kernelspec": {
      "display_name": "Python 3",
      "language": "python",
      "name": "python3"
    },
    "language_info": {
      "codemirror_mode": {
        "name": "ipython",
        "version": 3
      },
      "file_extension": ".py",
      "mimetype": "text/x-python",
      "name": "python",
      "nbconvert_exporter": "python",
      "pygments_lexer": "ipython3",
      "version": "3.10.7"
    }
  },
  "nbformat": 4,
  "nbformat_minor": 0
}