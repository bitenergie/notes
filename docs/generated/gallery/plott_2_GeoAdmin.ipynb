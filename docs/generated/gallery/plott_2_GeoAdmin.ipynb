{
  "cells": [
    {
      "cell_type": "code",
      "execution_count": null,
      "metadata": {
        "collapsed": false
      },
      "outputs": [],
      "source": [
        "%matplotlib inline"
      ]
    },
    {
      "cell_type": "markdown",
      "metadata": {},
      "source": [
        "\nGeoAdmin API\n===================================\n\n[Documentation](https://api3.geo.admin.ch/index.html)\n\n[Intro in Rest API Real Python](https://realpython.com/api-integration-in-python/#rest-architecture)\n\nLayers Metadata[\u00b6](https://api3.geo.admin.ch/services/sdiservices.html#layers-metadata \"Permalink to this headline\")\n\nThis service provides metadata for all the available layers in the GeoAdmin API.\n"
      ]
    },
    {
      "cell_type": "code",
      "execution_count": null,
      "metadata": {
        "collapsed": false
      },
      "outputs": [],
      "source": [
        "import requests\nfrom pprint import pprint\n\napi_url = \"https://api3.geo.admin.ch/rest/services/api/MapServer\"\nresponse = requests.get(api_url)\nlayers = response.json()\n\npprint(layers.keys())\nprint(len(layers[\"layers\"]))"
      ]
    },
    {
      "cell_type": "markdown",
      "metadata": {},
      "source": [
        "## Search Layer by name\n\n"
      ]
    },
    {
      "cell_type": "markdown",
      "metadata": {},
      "source": [
        "search for layer url with text\n\n"
      ]
    },
    {
      "cell_type": "code",
      "execution_count": null,
      "metadata": {
        "collapsed": false
      },
      "outputs": [],
      "source": [
        "param = {\"searchText\": \"solar\"}\nresponse = requests.get(\"https://api3.geo.admin.ch/rest/services/api/MapServer?\", param)\njson = response.json()\n\nname = json[\"layers\"][0][\"name\"] \nfull_name = json[\"layers\"][0][\"fullName\"] \nlink = json[\"layers\"][0][\"attributes\"][\"urlDetails\"]\n\nprint(f\"Name: {name}, \\n Voller Name: {full_name} \\n link: {link}\")"
      ]
    },
    {
      "cell_type": "markdown",
      "metadata": {},
      "source": [
        "Get the egid  of building from address\n\n"
      ]
    },
    {
      "cell_type": "code",
      "execution_count": null,
      "metadata": {
        "collapsed": false
      },
      "outputs": [],
      "source": [
        "street = 'Stadthausquai'\nnum = '17'\nplz = '8001'\nplace = 'Z\u00fcrich'\n\n\ndef feature_id(search_text):\n    search_url = \"https://api3.geo.admin.ch/rest/services/api/SearchServer?searchText=&origins=address&type=locations\"\n    search_value = {\n    \"searchText\": search_text,\n    }\n    r = requests.get(search_url, params=search_value)\n    results = r.json()\n    pprint(results)\n\nsearch_txt = f\"{street} {num} {place} {plz}\"\nparam = {\"searchText\": search_txt}\n\n\nresponse = requests.get(\"https://api3.geo.admin.ch/rest/services/api/SearchServer?&origins=address&type=locations\", param)\njson = response.json()\n\ndetail = json[\"results\"][0][\"attrs\"][\"detail\"]\nfeatureid = json[\"results\"][0][\"attrs\"][\"featureId\"]\n\nprint(f\"{detail} \\n {featureid}\")\n\npprint(json)"
      ]
    },
    {
      "cell_type": "markdown",
      "metadata": {},
      "source": [
        "## Height from coordinates\n\n[docs height](https://api3.geo.admin.ch/rest/services/height)\n\n\n\n"
      ]
    },
    {
      "cell_type": "code",
      "execution_count": null,
      "metadata": {
        "collapsed": false
      },
      "outputs": [],
      "source": [
        "url = \"https://api3.geo.admin.ch/rest/services/height\"\nparams = {\n    \"easting\": 2600000,\n    \"northing\": 1200000\n          }\nresponse = requests.get(url, params)\njson = response.json()\nprint(json)"
      ]
    },
    {
      "cell_type": "markdown",
      "metadata": {},
      "source": [
        "## gebaeude_wohnungs_register\n\n\n\n"
      ]
    },
    {
      "cell_type": "code",
      "execution_count": null,
      "metadata": {
        "collapsed": false
      },
      "outputs": [],
      "source": [
        "url = f\"https://api3.geo.admin.ch/rest/services/ech/MapServer/ch.bfs.gebaeude_wohnungs_register/{featureid}\"\n\nresponse = requests.get(url)\njson = response.json()\n\n\natr = json[\"feature\"][\"attributes\"]\n\ndkode = atr[\"dkode\"]\ndkodn = atr[\"dkodn\"] \n\nprint(f\"{dkode =        }\")\nprint(f\"{dkodn =        }\")\npprint(json)"
      ]
    },
    {
      "cell_type": "markdown",
      "metadata": {},
      "source": [
        "## Solardach energie\n\nsolarenergie-eignung-daecher\n\n"
      ]
    },
    {
      "cell_type": "markdown",
      "metadata": {},
      "source": [
        "# Solardach energie\n\n"
      ]
    },
    {
      "cell_type": "code",
      "execution_count": null,
      "metadata": {
        "collapsed": false
      },
      "outputs": [],
      "source": [
        "cordiantes = str(dkode) + \",\" + str(dkodn)\n\nprint(cordiantes)\nlink = \"https://api3.geo.admin.ch/rest/services/all/MapServer/identify\"\n\nquery = {\n\t\"geometry\": cordiantes,\n\t\"geometryFormat\": \"geojson\",\n\t\"geometryType\": \"esriGeometryPoint\",\n\t\"imageDisplay\": \"1410,620,96\",\n\t\"lang\": \"de\",\n\t\"layers\": \"all:ch.bfe.solarenergie-eignung-daecher\",\n\t\"limit\": \"10\",\n\t\"mapExtent\": \"2683322.444874717,1250605.7978890815,2683674.944874717,1250760.7978890815\",\n\t\"returnGeometry\": \"true\",\n\t\"sr\": \"2056\",\n\t\"tolerance\": \"10\"\n}\n\nresponse = requests.get(link, query)\npv_json = response.json()\n\nprint(f'How many: {len(pv_json[\"results\"])}')\n\npprint(pv_json['results'][0][\"properties\"])"
      ]
    },
    {
      "cell_type": "code",
      "execution_count": null,
      "metadata": {
        "collapsed": false
      },
      "outputs": [],
      "source": [
        "from IPython.display import display, HTML, IFrame\n\nfeature_ids=[]\nfor i in pv_json[\"results\"]:\n\tfeature_ids.append(i[\"featureId\"])\nprint(feature_ids)"
      ]
    },
    {
      "cell_type": "code",
      "execution_count": null,
      "metadata": {
        "collapsed": false
      },
      "outputs": [],
      "source": [
        "import matplotlib.pyplot as plt\n\nklasse = pv_json[\"results\"][0][\"properties\"]['klasse_text']\nfinanzertrag = pv_json[\"results\"][0][\"properties\"][\"finanzertrag\"]\nmstrahlung = pv_json[\"results\"][0][\"properties\"][\"mstrahlung\"]\nneigung = pv_json[\"results\"][0][\"properties\"][\"neigung\"]\n\nfig, ax = plt.subplots()\nx = pv_json[\"results\"][0][\"properties\"][\"monate\"]\ny = pv_json[\"results\"][0][\"properties\"][\"monats_ertrag\"]\nax.bar(x, y, )\nax.set_ylabel('fruit supply')\nax.set_title('Fruit supply by kind and color')\n\nprint(f\"{finanzertrag = }\")\nprint(f\"{mstrahlung = }\")\nprint(f\"{neigung = }\")\nprint(f\"{klasse = }\")\n\nplt.show()"
      ]
    },
    {
      "cell_type": "markdown",
      "metadata": {},
      "source": [
        "## Heizgradtage\n\n> Heizgradtage werden verwendet, um den j\u00e4hrlichen Heizw\u00e4rmebedarf auf die Kalendermonate zu verteilen. Die Heizgradtage f\u00fcr einen Monat berechnen sich aus der Differenz zwischen der Raumtemperatur (20\u00b0C) und der Tagesmitteltemperatur an Tagen mit einer Tagesmitteltemperatur tiefer als die Heizgrenze (< 12\u00b0C).\n\n\n\n"
      ]
    },
    {
      "cell_type": "code",
      "execution_count": null,
      "metadata": {
        "collapsed": false
      },
      "outputs": [],
      "source": [
        "fig, ax = plt.subplots()\n\nx = pv_json[\"results\"][0][\"properties\"][\"monate\"]\ny = pv_json[\"results\"][0][\"properties\"][\"heizgradtage\"]\nax.bar(x, y, color=\"red\")\n\nax.set_ylabel('Hours')\nax.set_xlabel('Months')\nax.set_title('heizgradtage')\n\n\nplt.show()\nprint(y)"
      ]
    }
  ],
  "metadata": {
    "kernelspec": {
      "display_name": "Python 3",
      "language": "python",
      "name": "python3"
    },
    "language_info": {
      "codemirror_mode": {
        "name": "ipython",
        "version": 3
      },
      "file_extension": ".py",
      "mimetype": "text/x-python",
      "name": "python",
      "nbconvert_exporter": "python",
      "pygments_lexer": "ipython3",
      "version": "3.10.7"
    }
  },
  "nbformat": 4,
  "nbformat_minor": 0
}