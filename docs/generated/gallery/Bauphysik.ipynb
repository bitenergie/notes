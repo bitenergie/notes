{
  "cells": [
    {
      "cell_type": "code",
      "execution_count": null,
      "metadata": {
        "collapsed": false
      },
      "outputs": [],
      "source": [
        "%matplotlib inline"
      ]
    },
    {
      "cell_type": "markdown",
      "metadata": {},
      "source": [
        "\nBauphysik \n===================================\n\nFormeln f\u00fcr Bauphysikalische Berechnungen\n"
      ]
    },
    {
      "cell_type": "markdown",
      "metadata": {},
      "source": [
        "# Bauphysik\n\n\n"
      ]
    },
    {
      "cell_type": "markdown",
      "metadata": {},
      "source": [
        "## 1 Randbedingungen (Klima)\n\n[Link enbau](https://enbau-online.ch/bauphysik/1-randbedingungen-klima/)\n\n### A1.1 gleitenden Mittelwerts der Aussentemperatur\n\nDie Komfort-Anforderungen an die empfundene Temperatur werden in der Norm SIA 180:2014 \\[1.4\\] neu in Abh\u00e4ngigkeit des gleitenden Mittelwerts der Aussentemperatur _\u03b8_<sub>rm</sub> \u00fcber 48 Stunden gem\u00e4ss folgender Formel festgelegt.\n\n$\\theta_{rm}(t) = \\frac{ 1 }{ N } * \\sum_{j=0}^{N-1} \\theta_e(t-j)$\n\n- gleitender Mittelwert der Aussentemperatur fiir die Stunde t\n- Aussenlufttemperatur der Stunde t-j\n- N Anzahl in den Mittelwert einbezogener Stunden N=48\n\n### A1.2 maximale Luftgeschwindigkeit\n\n$V_{max} = 0.54 * (\\frac{g* \\Delta T}{T_i})^{0.5} * H^{0.5}$\n\n$V_{max} = k *  \\sqrt{\\Delta \\theta * H}$\n\n- Temperaturdifferenz zwischen Raumluft und kalter Oberflache\n- H\u00f6he der vertikalen Flache \n- Regressionskoeffizient I\n\n"
      ]
    },
    {
      "cell_type": "markdown",
      "metadata": {},
      "source": [
        "A1.1\n\n"
      ]
    },
    {
      "cell_type": "code",
      "execution_count": null,
      "metadata": {
        "collapsed": false
      },
      "outputs": [],
      "source": [
        "# A1.2\ndef max_air_flow_speed(delta_temp, air_temperature, height):\n    \"\"\"Vmax = m*s^-1\"\"\"\n    GRAV = 9.81\n    return 0.54 * (GRAV * delta_temp / air_temperature) ** 0.5 * height**0.5\n\nprint(max_air_flow_speed.__doc__)\nmax_air_flow_speed(10, 20, 1)"
      ]
    },
    {
      "cell_type": "markdown",
      "metadata": {},
      "source": [
        "## 2 W\u00e4rme\n\n[Link Enbau W\u00e4rme](https://enbau-online.ch/bauphysik/2-waerme/)\n\n### A2.1 W\u00e4rmestromdichte q [$W/m^{2}$]\n\n$q = h_c * (\\theta_s - \\theta_a) + h_r * (\\theta_s - \\theta_r)$\n\n- $q$ Warmestromdichte $W/m^{2}$\n- $h_c$ Warmeiibergangskoeffizient Konvektion $W/(m^{2}*K)$\n- $h_r$ Warmeiibergangskoeffizient Strahlung $W/(m^{2}*K)$\n- $\\theta_s$ Oberflaichentemperatur $\u00b0C$\n- $\\theta_a$ Lufttemperatur $\u00b0C$\n- $\\theta_r$ Strahlungstemperatur $\u00b0C$\n\nDie beiden W\u00e4rme\u00fcbergangkoeffizienten Konvektion und Strahlung k\u00f6nnen zu einem kombinierten W\u00e4rme\u00fcbergangskoeffizienten $h = h_c + h_r$ zusammengefasst werden. Die Formel zur Bestimmung der W\u00e4rmestromdichte einer Oberfl\u00e4che zu seiner Umgebung vereinfacht sich durch die Verwendung der Umgebungstemperatur \u03b8n zur Formel A2.2:\n\n### A2.2 W\u00e4rmestromdichte mittels Umgebungstemperatur\n\n$q= h * (\\theta_s - \\theta_n)$\n\n- $h$ kombinierter Warmetibergangskoeffizient $W/(m^{2}*K)$\n- $\\theta_n$ Umgebungstemperatur $\u00b0C$\n\nDie Umgebungstemperatur \u03b8n wird gem\u00e4ss Formel A2.3 ermittelt und kann als eine Gewichtung der Luft- und Strahlungstemperatur betrachtet werden.\n\n### A2.3 Umgebungstemperatur \u03b8n\n\n$\\theta_n = \\frac{h_c * \\theta_a + h_r * \\theta_r}{h_c + h_r} = F_c * \\theta_a + (1- F_c) * \\theta_r$\n\n- $F_c$ = konvektiver Anteil\n- $F_c$ = $h_c/(h_c+h_r)$\n\n### A2.4 Umgebungstemperatur aussen, der Aussentemperatur \u03b8e:\n\n$\\theta_e = \\frac{h_c * \\theta_{a,e} + h_{r,e} * \\theta_{r,e}}{h_{c,e} + h_{r,e}}$\n\n### A2.5 Umgebungstemperatur innen, der Raumtemperatur \u03b8i:\n\n$\\theta_i = \\frac{h_{c,i} * \\theta_{a,i} + h_{r,i} * \\theta_{r,i}}{h_{c,i} + h_{r,i}}$\n\n### A2.6 W\u00e4rme\u00fcbergangswiderst\u00e4nde $R_{se}$\n\n$R_{se} = \\frac{1}{h_c} = \\frac{1}{h_{r,e} + h_{c,e}}$\n\n$R_{se} = \\frac{1}{\\varepsilon * 4 * \\sigma * T^{3}_{me} + (a + b * v)}$\n\n### A2.7 W\u00e4rme\u00fcbergangswiderst\u00e4nde $R_{si}$\n\n$R_{si} = \\frac{1}{h_i} = \\frac{1}{h_{r,i} + h_{c,i}}$\n\n$R_{si} = \\frac{1}{\\varepsilon * 4 * \\sigma * T^{3}_{mi} + c * \\sqrt[3]{\\Delta \\theta }}$\n\n- $R_{se}$ Warmeiibergangswiderstand aussen $(m^{2}*K)/W$\n- $R_{si}$ Warmeiibergangswiderstand innen $(m^{2}*K)/W$\n- $\\Delta \\theta$ Temperaturdifferenz $\\Delta \\theta = \\theta_{si} - \\theta_{a,i}$ $K$\n- $T_{me}$ Mitteltemperatur aussen $(T_{r,e}+T_{se})/2$ $K$\n- $T_{mi}$ Mitteltemperatur innen $(T_{r,e} + T_{si}) /2$ $K$\n- $a$ Regressionskoeffizient a = 4.0 $W/(m^{2}*K)$\n- $b$ Regressionskoeffizient b = 4.0 $(W*s)/(m^{3}*K)$\n- $v$ Windgeschwindigkeit $m/s$\n- $c$ Regressionskoeffizient c = 1.31 (bei Warmestr6mung horizontal) $W/(m^{2}*K^{4/3})$\n\n\n\n"
      ]
    },
    {
      "cell_type": "markdown",
      "metadata": {},
      "source": [
        "## 2.2 W\u00e4rmespeicherung\n\n\n### A2.8 statische, fl\u00e4chenbezogene W\u00e4rmespeicherf\u00e4higkeit \n\n$k_{stat} = \\sum d_j*\\rho_j*c_j$\n\n- $d_j$ Dicke der Schicht j\n- $\\rho_j$ Rohdichte der Schicht j\n- $c_j$ spezifische Warmekapazitat der Schicht j\n\n### A2.9 speicherwirksame Dicke $d_{T,max}$\n\n$d_{T,max} = \\sqrt{\\frac{a*T}{2*\\pi}} = \\sqrt{\\frac{\\lambda * T}{\\rho*c*2*\\pi}}$\n\n\n- $a$ Temperaturleitfahigkeit $m^{2}*s^{-1}$\n- $T$ Periodenlange $s$\n- $\\lambda$ Warmeleitfahigkeit $W*(m*K)^{-1}$\n- $\\rho$ Rohdichte $kg*m^{-3}$\n- $c$ spezifische Warmekapazitat $kJ*(kg*K)^{-1}$\n\n\n\n"
      ]
    },
    {
      "cell_type": "markdown",
      "metadata": {},
      "source": [
        "## 2.3 W\u00e4rmebr\u00fccken\n\n### A2.10  thermische Gesamtleitwert $L_{i,j}$\n\n$L_{3D,i,j} = \\sum^{N_k}_{k=1}U_{k,(i,j)} * A_k + \\sum^{N_m}_{m=1} \\psi_{m(i,j)}*l_m + \\sum^{N_n}_{n=1} \\chi_{n(i,j)}$\n\n- $L_{3D,i,j}$      thermischer Leitwert aus einer 3D-Berechnung $W*K^{-1}$\n- $U_{k,(i,j)}$     Warmedurchgangskoeffizient des 1D-Bauteils $W*(m^{2}*K)^{-1}$\n- $A_k$             Flache, \u00fcber die der $U_k$-Wert gilt $m^{2}$\n- $\\psi_{m(i,j)}$   l\u00e4ngenbezogener Warmedurchgangskoeffizient $W$\n- $l_m$             L\u00e4nge, \u00fcber die der $U_k$-Wert gilt $m$\n- $X_{n,(i,j)}$     punktbezogener Warmedurchgangskoeffizient $W*K^{-1}$\n- $N_k$             Anzahl der Warmedurchgangskoeffizienten $-$\n- $N_m$             Anzahl der langenbezogenen Warmedurchgangskoeffizienten $-$\n- $N_n$             Anzahl der punktbezogenen Warmedurchgangskoeffizienten $-$\n\n### A2.11 W\u00e4rmebr\u00fcckenzuschl\u00e4ge 2D\n\n$\\psi = L_{2D} - \\sum^{N_k}_{k=1}U_k*l_k$\n\n- $L_{2D}$ thermischer Leitwert aus einer 2D-Berechnung $W*(m*K)^{-1}$\n- $U_k$ Warmedurchgangskoeffizient des 1D-Bauteils $W*(m^{2}*K)^{-1}$\n- $l_k$ Lange, \u00fcber die der $U_k$-Wert gilt $m$\n\n### A2.12 W\u00e4rmebr\u00fcckenzuschl\u00e4ge 3D\n\n$\\chi =  L_{3D} - \\sum^{N_k}_{k=1}U_k*A_k - \\sum^{N_m}_{m=1} \\psi_m*l_m$ \n\n- $L_{3D}$ thermischer Leitwert aus einer 3D-Berechnung $W*K^{-1}$\n- $U_k$ Warmedurchgangskoeffizient des 1D-Bauteils $W*(m^{2}*K)^{-1}$\n- $A_k$ Flache, \u00fcber die der $U_k$-Wert gilt $m^{2}$\n- $\\psi_m$ langenbezogener Warme- durchgangskoeffizient $W*(m*K)^{-1}$\n- $l_m$ L$nge, \u00fcber die der $U_k$-Wert gilt $m$\n\n### A2.13 Mittlerer U-Wert\n\n$U_m = \\frac{L_{}i,j}{A_{tot}}$ \n\n- $L_{i,j}$ Gesamtleitwert aller betrachteten Gebaudehiillenbereiche $W*K^{-1}$\n- $A_{tot}$ Gesamtfliche der betrachteten Gebiudehiillenbereiche (Projektionsflaiche) $m^{2}$\n\n\n"
      ]
    },
    {
      "cell_type": "markdown",
      "metadata": {},
      "source": [
        "## 3 Feuchte\n\n[Enbau Formelbuch](https://enbau-online.ch/bauphysik/3-feuchte/)\n\nDie innere Oberfl\u00e4chentemperatur $\\theta_{si}$ einer Wand wird nach Formel A3.1 berechnet:\n\n$\\theta_{si} = \\theta_i - (R_{si} * U) * (\\theta_i - \\theta_e)$\n\n- $\\theta_e$ Aussentemperatur $\u00b0C$\n- $\\theta_i$ Innentemperatur $\u00b0C$\n- $R_{si}$ Warmeiibergangswiderstand innen $m^{2}*K*W^{-1}$\n- $U$ Warmedurchgangskoeffizient der Wand $W*(m^{2}*K)^{-1}$\n\n\n"
      ]
    },
    {
      "cell_type": "code",
      "execution_count": null,
      "metadata": {
        "collapsed": false
      },
      "outputs": [],
      "source": [
        "\"\"\"\nRsi:\nwindows, doors  = 0.13 [m^2*K/W]\nother           = 0.25 [m^2*K/W]\n\"\"\"\n\n\ndef surface_temperature(temp_out, temp_in, thermal_res_in, heat_transfer_coeff):\n    return temp_in - (thermal_res_in * heat_transfer_coeff) * (temp_in - temp_out)\n\n\ndef surface_temperature_from_factor(\n    temp_out,\n    temp_in,\n    surface_temp_factor,\n):\n    return temp_out + surface_temp_factor * (temp_in - temp_out)\n\n\ndef surface_temperature_unheated(g1, temp_1, g2, temp_2, g3, temp_3):\n    \"\"\"g1 + g2 + g3 = 1\"\"\"\n    return (g1 * temp_1) + (g2 * temp_2) + (g3 * temp_3)\n\n\n(\n    surface_temperature(-10, 21, 0.13, 0.2),\n    surface_temperature_from_factor(-10, 21, 0.974),\n)"
      ]
    },
    {
      "cell_type": "markdown",
      "metadata": {},
      "source": [
        "### Oberfl\u00e4chentemperaturfaktor\n\nOberfl\u00e4chentemperaturfaktor fRsi. Er ist als Verh\u00e4ltnis zwischen der Differenz der inneren Oberfl\u00e4chentemperatur eines Aussenbauteils und der Lufttemperatur aussen sowie der Differenz zwischen den Lufttemperaturen innen und aussen, bei vorgegebenem innerem W\u00e4rme\u00fcbergangswiderstand Rsi, definiert (siehe Formel A3.2).\n\nF\u00fcr fl\u00e4chige Bauteile (eindimensionale W\u00e4rmestromsituation) gilt: fRsi = 1 \u2013 (Rsi\u2009.\u2009U)\n\n\n"
      ]
    },
    {
      "cell_type": "code",
      "execution_count": null,
      "metadata": {
        "collapsed": false
      },
      "outputs": [],
      "source": [
        "def surface_temperature_factor(surface_temperature, temp_out, temp_in):\n    return (surface_temperature - temp_out) / (temp_in - temp_out)\n\n\ndef simple_surface_temperature_factor(thermal_res_in, heat_transfer_coeff):\n    return 1 - (thermal_res_in * heat_transfer_coeff)\n\n\n(\n    surface_temperature_factor(20.194, -10, 21),\n    simple_surface_temperature_factor(0.13, 0.2),\n)"
      ]
    },
    {
      "cell_type": "markdown",
      "metadata": {},
      "source": [
        "### Feuchtebelastung\n\nDie Feuchtebelastung in einem Raum ist abh\u00e4ngig von der Feuchteproduktion _G_, der Aussenluftfeuchte _\u03bd_<sub>e</sub> und dem Aussenluft-Volumenstrom _q_<sub>v</sub>. Der raumseitige Feuchte\u00fcberschuss \u2206*\u03bd* kann gem\u00e4ss Formel A3.5 bestimmt werden.\n\nIn Tabelle A3.2 ist die Feuchteproduktion _G_ einer Person in Abh\u00e4ngigkeit zu seiner T\u00e4tigkeit angegeben.\n\n(A3.5)\n\n![](https://enbau-online.ch/bauphysik/wp-content/uploads/sites/5/2018/08/A3.5.png)\n\nDer raumseitige Wasserdampf\u00fcberdruck _\u2206p_ im Raum l\u00e4sst sich somit nach Formel A3.6, der raumseitige Wasserdampfdruck _p_<sub>v,i</sub> nach Formel A3.7 ermitteln:\n\n(A3.6)\n\n![](https://enbau-online.ch/bauphysik/wp-content/uploads/sites/5/2018/08/A3.6.png)\n\n(A3.7)\n\n\n"
      ]
    },
    {
      "cell_type": "markdown",
      "metadata": {},
      "source": [
        "A3.5\n\n"
      ]
    },
    {
      "cell_type": "code",
      "execution_count": null,
      "metadata": {
        "collapsed": false
      },
      "outputs": [],
      "source": [
        "\"\"\"\nruhig liegend            =   45      [g*h]\nruhig sitzend            =   60      [g*h]\nsitzende T\u00e4tigkeit       =   70      [g*h]\nleichte T\u00e4tigkeit        =   95      [g*h]\nmittelschere T\u00e4tigkeit   =   115     [g*h]\n\"\"\"\n\n\ndef excess_humidity_room(indoor_hum, outdoor_hum):\n    return indoor_hum - outdoor_hum\n\n\ndef excess_humidity_room_from_flow(hum_production_person, outdoor_air_flow):\n    return hum_production_person / outdoor_air_flow\n\n\n# A3.6\ndef water_vapour_overpressure(excess_humidity_room, temp_in):\n    RV = 462  # Pa*m3 * (kg*K)^-1\n    temp_in += 273.15\n    return excess_humidity_room * RV * temp_in\n\n\n# A3.7\ndef water_vapour_pressure_in(water_vapour_overpressure, water_vapour_pressure_out):\n    return water_vapour_overpressure + water_vapour_pressure_out"
      ]
    },
    {
      "cell_type": "markdown",
      "metadata": {},
      "source": [
        "F\u00fcr **maritime Klimate** wird im Anhang A.2 die Luftfeuchtelast in f\u00fcnf Luftfeuchteklassen gem\u00e4ss Tabelle A3.3 eingeteilt und jeder Klasse in Abbildung A3.4 ein Wert f\u00fcr den raumseitigen Feuchte\u00fcberschuss _\u2206\u03bd_ bzw. den raumseitigen Wasserdampf\u00fcberdruck _\u2206p_ in Abh\u00e4ngigkeit des monatlichen Mittelwerts der Aussenlufttemperatur zugeordnet.\n\n\n### **Raumseitige Randbedingungen nach [SIA\u00a0180 \\[3.2\\]](https://enbau-online.ch/bauphysik/3-10-literatur-feuchte/)**\n\nUm Feuchtesch\u00e4den zu vermeiden, darf die Feuchte in R\u00e4umen mit Personenbelegung die in Tabelle A3.4 angegebenen Werte im Tagesmittel in Abh\u00e4ngigkeit zur Aussenlufttemperatur nicht \u00fcbersteigen. Die Angaben zur relativen Luftfeuchte beziehen sich auf eine Raumlufttemperatur von 20\u00a0\u00b0C und ein _f_<sub>Rsi</sub> von 0,70. F\u00fcr abweichende Raum- und Aussenlufttemperaturen ist die maximal zul\u00e4ssige relative Feuchte in Abbildung A3.5 angegeben, berechnet mit Formel A3.8. Die Aussenluft-Volumenstr\u00f6me sind so zu w\u00e4hlen, dass diese Grenzen nicht \u00fcberschritten werden.\n\n\nBei abweichenden Nutzungsbedingungen (Raumlufttemperaturen \u2260 20\u00a0\u00b0C) und in R\u00e4umen mit unvermeidbaren W\u00e4rmebr\u00fccken mit einem Oberfl\u00e4chentemperaturfaktor unter 0,70 ist eine Berechnung der maximal zul\u00e4ssigen relativen Raumluftfeuchte _\u03c6_<sub>i,max</sub> mit der Gleichung A3.8 notwendig:\n\n### (A3.8) TODO\n\n\n"
      ]
    },
    {
      "cell_type": "markdown",
      "metadata": {},
      "source": [
        "## Lichttechnik\n\n\n\n"
      ]
    },
    {
      "cell_type": "markdown",
      "metadata": {},
      "source": [
        "## 4 Luftstr\u00f6mungen\n\n[Link Enbau](https://enbau-online.ch/bauphysik/4-luftstroemungen/)\n\n### A4.1 Rechteck\u00f6ffnung\n\n$q_{v,Rechteck\u00f6ffnung} = c_d * H * B * \\frac{1}{3}*\\sqrt{g*H*\\frac{(T_i-T_e)}{T_e}}$\n\nDie empirische Gr\u00f6sse cd ist insbesondere von der Fensterposition und -geometrie abh\u00e4ngig [4.2] und kann \u2013 falls keine Resultate aus Experimenten oder CFD-Simulationen vorliegen \u2013 in grober N\u00e4herung mit etwa 0.6 angenommen werden.\n\n### A4.2  Kippfenstern\n\n$q_{v,Kippfl\u00fcgel}(\\alpha) = c_k(\\alpha) * q_{v,Rechteck\u00f6ffnung} $\n\n"
      ]
    },
    {
      "cell_type": "markdown",
      "metadata": {},
      "source": [
        "## 6 Energie/Leistung\n\n[Link Enbau](https://enbau-online.ch/bauphysik/6-energie-leistung/)\n\n### A6.1 Klimakorrektur mit akkumulierten Temperaturdifferenzen (ATD)\n\n\n## 6.2 Heizenergiebedarf\n\n$E_{H,an} = \\frac{\\theta_{\\sum,an}}{\\theta_{\\sum,per}}*E_{H,per}$\n\n## 6.3 Heizenergiebedarf\n\n$E_{H,1} = \\frac{\\theta_{\\sum,per1}}{\\theta_{\\sum,per2}}*E_{H,2}$\n\n## 6.4 Speicherverhalten\n\n### A6.4 Statische W\u00e4rmekapazit\u00e4t $C_{stat}$\n\n$C_{stat} = \\sum A_i * \\sum d_j * \\rho_j * c_j$\n\n- $A_i$ Flache des Bautells $m^{2}$\n- $d_j$ Dicke der Schicht j $m$\n- $\\psi_j$ Rohdichte der Schicht j $kg*m^{3}$\n- $c_j$ spezifische Warmekapazitat der Schicht $kJ*(kg*K)^{-1}$\n\n### A6.5 Dynamische W\u00e4rmekapazit\u00e4t $C_{stat}$\n\n## 6.5 K\u00fchlungsbedarf\n\n### A6.6 K\u00fchlungsbedarf\n\n$C_r = \\sum A_i*k_i$\n\n- $A_i$ Flache des Bauteils i $m^{2}$\n- $K_i$ flachenbezogene Warmespeicherfahigkeit des Bauteils (mit $R_{si}$ und $R_{se}$), <br> berechnet nach EN ISO 13786 [6.7] $kJ * (m^{2}* K)^{-1}$\n\n\n\n"
      ]
    },
    {
      "cell_type": "markdown",
      "metadata": {},
      "source": [
        "## Anhang\n\n[Link Enbau](https://enbau-online.ch/bauphysik/9-anhang/)\n\n### 9.2 maximal zul\u00e4ssigen U-Wertes\n\n### 9.3 maximal zul\u00e4ssigen U-Wertes bei max zul. Luftgeschwindigkeit \n\n### 9.4 Sonnenschutz Gesamtenergiedurchlassgrad des Fensters\n\n\n\n"
      ]
    }
  ],
  "metadata": {
    "kernelspec": {
      "display_name": "Python 3",
      "language": "python",
      "name": "python3"
    },
    "language_info": {
      "codemirror_mode": {
        "name": "ipython",
        "version": 3
      },
      "file_extension": ".py",
      "mimetype": "text/x-python",
      "name": "python",
      "nbconvert_exporter": "python",
      "pygments_lexer": "ipython3",
      "version": "3.10.7"
    }
  },
  "nbformat": 4,
  "nbformat_minor": 0
}