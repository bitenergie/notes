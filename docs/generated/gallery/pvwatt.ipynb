{
  "cells": [
    {
      "cell_type": "code",
      "execution_count": null,
      "metadata": {
        "collapsed": false
      },
      "outputs": [],
      "source": [
        "%matplotlib inline"
      ]
    },
    {
      "cell_type": "markdown",
      "metadata": {},
      "source": [
        "\nPVWatts\n===================================\n"
      ]
    },
    {
      "cell_type": "markdown",
      "metadata": {},
      "source": [
        "## PVWatts\n\nHere we will demonstrate one of the more basic PV models implemented by pvlib.  The PVWatts module model requires only two array parameters -- the array size (nameplate capacity) and the array's efficiency change with cell temperature.  Typical array sizes range from a few kW for residential arrays to hundreds of MW for large utility-scale systems.  The cell temperature response parameter, often called the module's temperature coefficient, determines the efficiency loss for a temperature increase.  For example, a module that produces 100W at test conditions but only 95W when the cell temperature is increased by 10 degrees has a temperature coefficient of -0.5%/\u00b0C.  Typical temperature coefficients range from -0.5%/\u00b0C to -0.2%/\u00b0C.\n\nWe'll read in weather data, run the irradiance transposition, and model cell temperature as in previous tutorials.\n\n\n## STEPS:\n<ol>\n    <li><a id='step1'>Define System</a></li>\n    <li><a id='step2'>Calculating the Temperature of the system </a></li>\n    <li><a id='step3'>Calculating the Power (DC) </a></li>\n    <li><a id='step4'>Calculating the AC Power </a></li>\n</ol>\n\n"
      ]
    },
    {
      "cell_type": "code",
      "execution_count": null,
      "metadata": {
        "collapsed": false
      },
      "outputs": [],
      "source": [
        "from pvlib import pvsystem\nimport pandas as pd\nimport matplotlib.pyplot as plt\n\n# Example module parameters for the Canadian Solar CS5P-220M:\nparameters = {\n    \"Name\": \"Canadian Solar CS5P-220M\",\n    \"BIPV\": \"N\",\n    \"Date\": \"10/5/2009\",\n    \"T_NOCT\": 42.4,\n    \"A_c\": 1.7,\n    \"N_s\": 96,\n    \"I_sc_ref\": 5.1,\n    \"V_oc_ref\": 59.4,\n    \"I_mp_ref\": 4.69,\n    \"V_mp_ref\": 46.9,\n    \"alpha_sc\": 0.004539,\n    \"beta_oc\": -0.22216,\n    \"a_ref\": 2.6373,\n    \"I_L_ref\": 5.114,\n    \"I_o_ref\": 8.196e-10,\n    \"R_s\": 1.065,\n    \"R_sh_ref\": 381.68,\n    \"Adjust\": 8.7,\n    \"gamma_r\": -0.476,\n    \"Version\": \"MM106\",\n    \"PTC\": 200.1,\n    \"Technology\": \"Mono-c-Si\",\n}\n\ncases = [(1000, 55), (800, 55), (600, 55), (400, 25), (400, 40), (400, 55)]\n\nconditions = pd.DataFrame(cases, columns=[\"Geff\", \"Tcell\"])\n\n# adjust the reference parameters according to the operating\n# conditions using the De Soto model:\nIL, I0, Rs, Rsh, nNsVth = pvsystem.calcparams_desoto(\n    conditions[\"Geff\"],\n    conditions[\"Tcell\"],\n    alpha_sc=parameters[\"alpha_sc\"],\n    a_ref=parameters[\"a_ref\"],\n    I_L_ref=parameters[\"I_L_ref\"],\n    I_o_ref=parameters[\"I_o_ref\"],\n    R_sh_ref=parameters[\"R_sh_ref\"],\n    R_s=parameters[\"R_s\"],\n    EgRef=1.121,\n    dEgdT=-0.0002677,\n)\n\n# plug the parameters into the SDE and solve for IV curves:\ncurve_info = pvsystem.singlediode(\n    photocurrent=IL,\n    saturation_current=I0,\n    resistance_series=Rs,\n    resistance_shunt=Rsh,\n    nNsVth=nNsVth,\n    ivcurve_pnts=100,\n    method=\"lambertw\",\n)\n\n# plot the calculated curves:\nplt.figure()\nfor i, case in conditions.iterrows():\n    label = (\n        \"$G_{eff}$ \" + f\"{case['Geff']} $W/m^2$\\n\"\n        \"$T_{cell}$ \" + f\"{case['Tcell']} $\\\\degree C$\"\n    )\n    plt.plot(curve_info[\"v\"][i], curve_info[\"i\"][i], label=label)\n    v_mp = curve_info[\"v_mp\"][i]\n    i_mp = curve_info[\"i_mp\"][i]\n    # mark the MPP\n    plt.plot([v_mp], [i_mp], ls=\"\", marker=\"o\", c=\"k\")\n\nplt.legend(loc=(1.0, 0))\nplt.xlabel(\"Module voltage [V]\")\nplt.ylabel(\"Module current [A]\")\nplt.title(parameters[\"Name\"])\n\nplt.gcf().set_tight_layout(True)\nplt.gcf().set_tight_layout(False)\n\n\n# draw trend arrows\ndef draw_arrow(ax, label, x0, y0, rotation, size, direction):\n    style = direction + \"arrow\"\n    bbox_props = dict(boxstyle=style, fc=(0.8, 0.9, 0.9), ec=\"b\", lw=1)\n    t = ax.text(\n        x0,\n        y0,\n        label,\n        ha=\"left\",\n        va=\"bottom\",\n        rotation=rotation,\n        size=size,\n        bbox=bbox_props,\n        zorder=-1,\n    )\n\n    bb = t.get_bbox_patch()\n    bb.set_boxstyle(style, pad=0.6)\n\n\nax = plt.gca()\ndraw_arrow(ax, \"Irradiance\", 20, 2.5, 90, 15, \"r\")\ndraw_arrow(ax, \"Temperature\", 35, 1, 0, 15, \"l\")\n\nplt.show()"
      ]
    },
    {
      "cell_type": "code",
      "execution_count": null,
      "metadata": {
        "collapsed": false
      },
      "outputs": [],
      "source": [
        "print(\n    pd.DataFrame(\n        {\n            \"i_sc\": curve_info[\"i_sc\"],\n            \"v_oc\": curve_info[\"v_oc\"],\n            \"i_mp\": curve_info[\"i_mp\"],\n            \"v_mp\": curve_info[\"v_mp\"],\n            \"p_mp\": curve_info[\"p_mp\"],\n        }\n    )\n)"
      ]
    },
    {
      "cell_type": "code",
      "execution_count": null,
      "metadata": {
        "collapsed": false
      },
      "outputs": [],
      "source": [
        "from pvlib import solarposition\nimport pandas as pd\nimport numpy as np\nimport matplotlib.pyplot as plt\n\ntz = \"europe/Zurich\"\nlat, lon = 47.47970, 8.53580\ntimes = pd.date_range(\"2013-01-01\", \"2021-01-01\", freq=\"H\", tz=tz)\n\nplt.figure(dpi=300,figsize=(8, 8))\n\nsolpos = solarposition.get_solarposition(times, lat, lon)\n\n# remove nighttime\nsolpos = solpos.loc[solpos[\"apparent_elevation\"] > 0, :]\n\nax = plt.subplot(1, 1, 1, projection=\"polar\")\n# draw the analemma loops\npoints = ax.scatter(\n    np.radians(solpos.azimuth),\n    solpos.apparent_zenith,\n    s=2,\n    label=None,\n    c=solpos.index.dayofyear,\n)\nax.figure.colorbar(points)\n\n\n# draw hour labels\nfor hour in np.unique(solpos.index.hour):\n    # choose label position by the smallest radius for each hour\n    subset = solpos.loc[solpos.index.hour == hour, :]\n    r = subset.apparent_zenith\n    pos = solpos.loc[r.idxmin(), :]\n    ax.text(np.radians(pos[\"azimuth\"]), pos[\"apparent_zenith\"], str(hour))\n\n# draw individual days\nfor date in pd.to_datetime([\"2013-03-21\", \"2013-06-21\", \"2020-12-21\"]):\n    times = pd.date_range(date, date + pd.Timedelta(\"24h\"), freq=\"5min\", tz=tz)\n    solpos = solarposition.get_solarposition(times, lat, lon)\n    solpos = solpos.loc[solpos[\"apparent_elevation\"] > 0, :]\n    label = date.strftime(\"%Y-%m-%d\")\n    ax.plot(np.radians(solpos.azimuth), solpos.apparent_zenith, label=label)\n\nax.figure.legend(loc=\"upper left\")\n\n# change coordinates to be like a compass\nax.set_theta_zero_location(\"N\")\nax.set_theta_direction(-1)\nax.set_rmax(90)\n\nplt.savefig(\"test.png\", format=\"png\")\nplt.show()"
      ]
    },
    {
      "cell_type": "code",
      "execution_count": null,
      "metadata": {
        "collapsed": false
      },
      "outputs": [],
      "source": [
        "plt.savefig(\"test.svg\", format=\"svg\")"
      ]
    },
    {
      "cell_type": "code",
      "execution_count": null,
      "metadata": {
        "collapsed": false
      },
      "outputs": [],
      "source": [
        "times = pd.date_range(\n    \"2019-01-01 00:00:00\", \"2020-01-01\", inclusive=\"left\", freq=\"H\", tz=tz\n)\nplt.rcParams[\"figure.figsize\"] = (15,5)\n\nsolpos = solarposition.get_solarposition(times, lat, lon)\n# remove nighttime\nsolpos = solpos.loc[solpos[\"apparent_elevation\"] > 0, :]\n\nfig, ax = plt.subplots()\npoints = ax.scatter(\n    solpos.azimuth, solpos.apparent_elevation, s=2, c=solpos.index.dayofyear, label=None\n)\nfig.colorbar(points)\n\n\nfor hour in np.unique(solpos.index.hour):\n    # choose label position by the largest elevation for each hour\n    subset = solpos.loc[solpos.index.hour == hour, :]\n    height = subset.apparent_elevation\n    pos = solpos.loc[height.idxmax(), :]\n    ax.text(pos[\"azimuth\"], pos[\"apparent_elevation\"], str(hour))\n\nfor date in pd.to_datetime([\"2019-03-21\", \"2019-06-21\", \"2019-12-21\"]):\n    times = pd.date_range(date, date + pd.Timedelta(\"24h\"), freq=\"5min\", tz=tz)\n    solpos = solarposition.get_solarposition(times, lat, lon)\n    solpos = solpos.loc[solpos[\"apparent_elevation\"] > 0, :]\n    label = date.strftime(\"%Y-%m-%d\")\n    ax.plot(\n        solpos.azimuth,\n        solpos.apparent_elevation,\n        label=label,\n    )\n\nax.figure.legend(loc=\"upper left\")\nax.set_xlabel(\"Solar Azimuth (degrees)\")\nax.set_ylabel(\"Solar Elevation (degrees)\")\n\nplt.show()"
      ]
    },
    {
      "cell_type": "markdown",
      "metadata": {},
      "source": [
        "<a href='#step1'>\n\n\n"
      ]
    },
    {
      "cell_type": "markdown",
      "metadata": {},
      "source": [
        "## 1. Define system\n\n\n"
      ]
    },
    {
      "cell_type": "code",
      "execution_count": null,
      "metadata": {
        "collapsed": false
      },
      "outputs": [],
      "source": [
        "import pvlib\nimport pandas as pd  # for data wrangling\nimport matplotlib.pyplot as plt  # for visualization\nimport pathlib  # for finding the example dataset\nprint(pvlib.__version__)"
      ]
    },
    {
      "cell_type": "code",
      "execution_count": null,
      "metadata": {
        "collapsed": false
      },
      "outputs": [],
      "source": [
        "class Photovoltaik:\n    def __init__(self, path, year) -> None:\n        self.path = path\n        df_tmy, meta = pvlib.iotools.read_epw(path, year)\n        location = pvlib.location.Location(\n            latitude=meta[\"latitude\"], longitude=meta[\"longitude\"]\n        )"
      ]
    },
    {
      "cell_type": "markdown",
      "metadata": {},
      "source": [
        "path = \"/Users/marco/Downloads/CHE_ZH_Zurich.AP.066700_TMYx/CHE_ZH_Zurich.AP.066700_TMYx.epw\"\npath = \"/Users/marco/Downloads/tmy_47.359_8.536_2005_2020.epw\"\npath= \"/Users/marco/Downloads/CHE_ZH_Zurich.Affoltern.066640_TMYx.2004-2018/CHE_ZH_Zurich.Affoltern.066640_TMYx.2004-2018.epw\"\npath= \"/Users/marco/Downloads/CHE_GR_Disentis.Sedrun.067820_TMYx/CHE_GR_Disentis.Sedrun.067820_TMYx.epw\"\npath = \"/Users/marco/Downloads/tmy_47.401_8.546_2005_2016.epw\"\n\n"
      ]
    },
    {
      "cell_type": "code",
      "execution_count": null,
      "metadata": {
        "collapsed": false
      },
      "outputs": [],
      "source": [
        "path = \"/Users/marco/Downloads/Zurich-Kloten_2013.epw\"\nimport numpy as np\n\n\ndf_tmy, meta = pvlib.iotools.read_epw(path)\n\n\n\nlocation = pvlib.location.Location(\n    latitude=meta[\"latitude\"], longitude=meta[\"longitude\"]\n)\n\ntimes = df_tmy.index \nsolar_position = location.get_solarposition(times)\n\ntilt = 30\nazimuth = 180\n\ndf_poa = pvlib.irradiance.get_total_irradiance(\n    surface_tilt=tilt,\n    surface_azimuth=azimuth,\n    dni=df_tmy[\"dni\"],\n    ghi=df_tmy[\"ghi\"],\n    dhi=df_tmy[\"dhi\"],\n    solar_zenith=solar_position[\"apparent_zenith\"],\n    solar_azimuth=solar_position[\"azimuth\"],\n)\n\npoa = df_poa[\"poa_global\"]\npoa_sky = df_poa[\"poa_sky_diffuse\"]\n\nparameters = pvlib.temperature.TEMPERATURE_MODEL_PARAMETERS[\"sapm\"][\"open_rack_glass_polymer\"]\n\ncell_temperature = pvlib.temperature.sapm_cell(\n    poa, df_tmy[\"temp_air\"], df_tmy[\"wind_speed\"], **parameters)\n\n# power\ngamma_pdc = -0.004  # divide by 100 to go from %/\u00b0C to 1/\u00b0C\nnameplate = 10000\n\narray_power = pvlib.pvsystem.pvwatts_dc(poa, cell_temperature, nameplate, gamma_pdc)\nloses = 1 - pvlib.pvsystem.pvwatts_losses() / 100\ndc = loses*array_power\n\n\n\"\"\"\nsoiling: numeric, default 2\nshading: numeric, default 3\nsnow: numeric, default 0\nmismatch: numeric, default 2\nwiring: numeric, default 2\nconnections: numeric, default 0.5\nlid: numeric, default 1.5\nLight induced degradation\nnameplate_rating: numeric, default 1\nage: numeric, default 0\navailability: numeric, default 3\n\"\"\"\n\n# 0.86 \u00d7 0.96 = 0.825\npdc0 = nameplate / 0.96  # W\nac = pvlib.inverter.pvwatts(dc, pdc0)\n\ndf_plot = pd.DataFrame(\n    {\n        \"Sun power on Modul\": poa,\n        \"Panel (DC)\": dc,\n        \"Inverter (AC)\": ac,\n    }\n)\n\nprint(len(df_tmy))\ndf_plot.sum() /1000"
      ]
    },
    {
      "cell_type": "code",
      "execution_count": null,
      "metadata": {
        "collapsed": false
      },
      "outputs": [],
      "source": [
        "loses"
      ]
    },
    {
      "cell_type": "code",
      "execution_count": null,
      "metadata": {
        "collapsed": false
      },
      "outputs": [],
      "source": [
        "ar = dc.resample(\"M\").sum() /1000\nar.plot.bar()\nplt.xticks(np.arange(12), ['Jan', 'Feb', 'M\u00e4r', 'Mai', 'Apr', 'Jun', 'Jul', 'Aug', 'Sep', 'Okt', 'Nov', 'Dez'])\nplt.ylabel(\"Power [W]\")\nplt.xlabel(\"Month\")\nplt.title(\"DC Power\")\npoa.resample(rule=\"M\").sum().to_list()[0]/1000\ndf_poa.sum() / 1000"
      ]
    },
    {
      "cell_type": "code",
      "execution_count": null,
      "metadata": {
        "collapsed": false
      },
      "outputs": [],
      "source": [
        "first_week = df_tmy[4000:4200]  # Plotting 7 days, each one has 24 hours or entries\nfirst_week[['ghi', 'dhi', 'dni']].plot()\nplt.ylabel('Irradiance [W/m$^2$]')\nplt.title(\"By Hours\")"
      ]
    },
    {
      "cell_type": "code",
      "execution_count": null,
      "metadata": {
        "collapsed": false
      },
      "outputs": [],
      "source": [
        "day = df_tmy.loc['2013-03-15':'2013-03-18']\nplt.rcParams[\"figure.figsize\"] = (15,5)\nplt.plot(day['dni'], color='r', ) \nplt.plot(day['dhi'], color='g', marker='.') \nplt.plot(day['ghi'], color='b', marker='s') \nplt.ylabel('Irradiance [W/m$^2$]')\nplt.show()\nday[['ghi', 'dhi', 'dni']].plot()"
      ]
    },
    {
      "cell_type": "code",
      "execution_count": null,
      "metadata": {
        "collapsed": false
      },
      "outputs": [],
      "source": [
        "day = df_tmy.loc['2013-06-15':'2013-06-18']\nplt.rcParams[\"figure.figsize\"] = (15,5)\n\nplt.plot(day['dni'], color='r', ) \nplt.plot(day['dhi'], color='g', marker='.') \nplt.plot(day['ghi'], color='b', marker='s') \nplt.ylabel('Irradiance [W/m$^2$]')\nplt.show()"
      ]
    },
    {
      "cell_type": "code",
      "execution_count": null,
      "metadata": {
        "collapsed": false
      },
      "outputs": [],
      "source": [
        "day = df_tmy.loc['2013-09-15':'2013-09-18']\nplt.rcParams[\"figure.figsize\"] = (15,5)\n\nplt.plot(day['dni'], color='r', ) \nplt.plot(day['dhi'], color='g', marker='.') \nplt.plot(day['ghi'], color='b', marker='s') \nplt.ylabel('Irradiance [W/m$^2$]')\nplt.title(\"Sep day\")\n\nplt.show()"
      ]
    },
    {
      "cell_type": "code",
      "execution_count": null,
      "metadata": {
        "collapsed": false
      },
      "outputs": [],
      "source": [
        "day = df_tmy.loc['2013-12-15':'2013-12-18']\nplt.rcParams[\"figure.figsize\"] = (15,5)\n\nplt.plot(day['dni'], color='r', ) \nplt.plot(day['dhi'], color='g', marker='.') \nplt.plot(day['ghi'], color='b', marker='s') \nplt.ylabel('Irradiance [W/m$^2$]')\nplt.title(\"Dezember day\")\nplt.show()"
      ]
    },
    {
      "cell_type": "code",
      "execution_count": null,
      "metadata": {
        "collapsed": false
      },
      "outputs": [],
      "source": [
        "meta[\"latitude\"], meta[\"longitude\"]"
      ]
    },
    {
      "cell_type": "code",
      "execution_count": null,
      "metadata": {
        "collapsed": false
      },
      "outputs": [],
      "source": [
        "print(\"Sun: kwh/m2\", int(poa.sum()/1000))\nprint(\"DC: 1/kW\", int(dc.sum() / 1000))\nprint(\"AC: 1/kW\",int(ac.sum() / 1000))"
      ]
    },
    {
      "cell_type": "code",
      "execution_count": null,
      "metadata": {
        "collapsed": false
      },
      "outputs": [],
      "source": [
        "# summing hourly power (W) gives (W h)\ndf = df_plot.resample(\"M\").sum()/1000\n\ndf.plot.bar(figsize=(10, 6))\nplt.xticks(np.arange(12), ['Jan', 'Feb', 'M\u00e4r', 'Mai', 'Apr', 'Jun', 'Jul', 'Aug', 'Sep', 'Okt', 'Nov', 'Dez'])\nplt.ylabel(\"Energy [kWh]\")"
      ]
    },
    {
      "cell_type": "code",
      "execution_count": null,
      "metadata": {
        "collapsed": false
      },
      "outputs": [],
      "source": [
        "from IPython.core.display import HTML\ntable = df_plot.resample(\"M\").sum()/1000\nHTML(table.to_html())"
      ]
    },
    {
      "cell_type": "markdown",
      "metadata": {},
      "source": [
        "Total nominal power: 10 kWp\tMeteodata: Meteoswiss 2020\n\n| Month\t      |  Gh [kWh/m2]\t|    Simulated [kWh]\t|\n|:------------|---------------------:|-------------:|\n| Jan     2020|\t38\t          |  572\t0       \t|\n| Feb     2020|\t51\t          |  624\t0       \t|\n| Mrz     2020|\t105\t         |   1078\t        |\n| Apr     2020|\t153\t         |   1379\t        |\n| Mai     2020|\t184\t         |   1424\t        |\n| Jun     2020|\t159\t         |   1162\t        |\n| Jul     2020|\t195\t         |   1444\t        |\n| Aug     2020|\t151\t         |   1206\t        |\n| Sep     2020|\t116\t         |   1073\t        |\n| Okt     2020|\t59\t          |  639\t0       \t|\n| Nov     2020|\t34\t          |  438\t0       \t|\n| Dez     2020|\t18\t          |  214\t0       \t|\n| Year\t       | 1263\t        |11253\t        |\n\n"
      ]
    },
    {
      "cell_type": "code",
      "execution_count": null,
      "metadata": {
        "collapsed": false
      },
      "outputs": [],
      "source": [
        "print(\"Sun: kwh/m2\", int(poa.sum()/1000))\nprint(\"DC: 1/kW\", int(dc.sum() / 1000))\nprint(\"AC: 1/kW\",int(ac.sum() / 1000))"
      ]
    },
    {
      "cell_type": "code",
      "execution_count": null,
      "metadata": {
        "collapsed": false
      },
      "outputs": [],
      "source": [
        "ax = ac.resample(\"D\").sum().plot( label=\"AC\")\ndc.resample(\"D\").sum().plot(ax=ax, label=\"DC\")\n\nplt.rcParams[\"figure.figsize\"] = (40,10)\n\nplt.ylabel(\"Energy [kWh]\")\n\nplt.title(\"DC and AC Power\")\nplt.ylabel(\"Output [kWh/day]\")\nplt.grid()\nplt.legend()\n\nplt.show()"
      ]
    },
    {
      "cell_type": "code",
      "execution_count": null,
      "metadata": {
        "collapsed": false
      },
      "outputs": [],
      "source": [
        "plt.rcParams[\"font.size\"] = 14\nbar = {\"AC\": ac.resample(\"M\").sum()/1000,\n        \"DC\": dc.resample(\"M\").sum()/1000}\n\n\npd.DataFrame(bar).plot.bar(figsize=(15, 12),)\n\n\nprint(df_plot.resample(\"M\").sum()/1000)\n\n\nplt.xticks(np.arange(12), ['Jan', 'Feb', 'M\u00e4r', 'Mai', 'Apr', 'Jun', 'Jul', 'Aug', 'Sep', 'Okt', 'Nov', 'Dez'])\nplt.ylabel(\"Energy [kWh]\")\n\n\nplt.title(\"DC and AC Power\")\nplt.ylabel(\"Output [kWh/Month]\")\nplt.grid(axis='y')\nplt.legend()\nplt.show()"
      ]
    },
    {
      "cell_type": "code",
      "execution_count": null,
      "metadata": {
        "collapsed": false
      },
      "outputs": [],
      "source": [
        "plt.rcParams[\"font.size\"] = 14\n\nax = ac.resample(\"M\").sum().plot(figsize=(15, 10), label=\"AC\")\ndc.resample(\"M\").sum().plot(ax=ax, label=\"DC\")\n\nplt.title(\"DC and AC Power\")\nplt.ylabel(\"Output [Wh/day]\")\nplt.grid()\nplt.legend()\n\nplt.show()"
      ]
    },
    {
      "cell_type": "code",
      "execution_count": null,
      "metadata": {
        "collapsed": false
      },
      "outputs": [],
      "source": [
        "plt.rcParams[\"font.size\"] = 14\n\nax = (\n    ac.resample(\"M\")\n    .sum()\n    .plot.bar(\n        figsize=(8, 5),\n        label=\"AC\",\n    )\n)\n\nplt.title(\"AC Power\")\nplt.ylabel(\"Output [Wh/day]\")\nplt.xticks(np.arange(12), ['Jan', 'Feb', 'M\u00e4r', 'Mai', 'Apr', 'Jun', 'Jul', 'Aug', 'Sep', 'Okt', 'Nov', 'Dez'])\n\nplt.legend()"
      ]
    },
    {
      "cell_type": "code",
      "execution_count": null,
      "metadata": {
        "collapsed": false
      },
      "outputs": [],
      "source": [
        "plt.rcParams[\"font.size\"] = 14\n\ndc.resample(\"M\").sum().plot.bar(label=\"DC\",figsize=(6, 5),)\n\nplt.title(\"DC Power\")\nplt.ylabel(\"Output [Wh/day]\")\nplt.xticks(np.arange(12), ['Jan', 'Feb', 'M\u00e4r', 'Mai', 'Apr', 'Jun', 'Jul', 'Aug', 'Sep', 'Okt', 'Nov', 'Dez'])\n\nplt.legend()"
      ]
    },
    {
      "cell_type": "code",
      "execution_count": null,
      "metadata": {
        "collapsed": false
      },
      "outputs": [],
      "source": [
        "plt.rcParams[\"figure.figsize\"] = (10,5)\n\nplt.scatter(poa, dc, c=df_tmy[\"temp_air\"])\nplt.colorbar()\nplt.ylabel(\"Array Power [W]\")\nplt.xlabel(\"POA Irradiance [W/m^2]\")\nplt.title(\"Power vs POA, colored by amb. temp.\")"
      ]
    },
    {
      "cell_type": "markdown",
      "metadata": {},
      "source": [
        "<a href='#step2'>\n\n"
      ]
    }
  ],
  "metadata": {
    "kernelspec": {
      "display_name": "Python 3",
      "language": "python",
      "name": "python3"
    },
    "language_info": {
      "codemirror_mode": {
        "name": "ipython",
        "version": 3
      },
      "file_extension": ".py",
      "mimetype": "text/x-python",
      "name": "python",
      "nbconvert_exporter": "python",
      "pygments_lexer": "ipython3",
      "version": "3.10.7"
    }
  },
  "nbformat": 4,
  "nbformat_minor": 0
}